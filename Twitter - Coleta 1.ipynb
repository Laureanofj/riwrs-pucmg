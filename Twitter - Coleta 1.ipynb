{
 "cells": [
  {
   "cell_type": "code",
   "execution_count": 1,
   "metadata": {
    "collapsed": false
   },
   "outputs": [],
   "source": [
    "from tweepy import OAuthHandler\n",
    "from tweepy import Stream\n",
    "from tweepy.streaming import StreamListener\n",
    "import time"
   ]
  },
  {
   "cell_type": "code",
   "execution_count": 2,
   "metadata": {
    "collapsed": true
   },
   "outputs": [],
   "source": [
    "# setup security \n",
    "#owner: laureanofj\n",
    "access_token = '1329083934-SY6gvIyJPFYuA06JhFptLNrn9kpliDfsSvPkEoY'\n",
    "access_token_secret = 'NGmsO9QMIS18LUPhjHWHbxtDOow5htWk06Y37zIMO7YSl'\n",
    "consumer_key = 'EC4RiP4W6PMyTdhIqf4xB9EPl'\n",
    "consumer_secret = 'hmepYGOUVXHw4xCJPkBLME9cRsFMc2I3W7x8zUwHb7YgDMsXka'\n",
    "\n",
    "# setup file store\n",
    "file = '/Users/laureano.fernandes/twitter/tweets-sample-3.json'"
   ]
  },
  {
   "cell_type": "code",
   "execution_count": 3,
   "metadata": {
    "collapsed": true
   },
   "outputs": [],
   "source": [
    "class MyListener(StreamListener):\n",
    "        \n",
    "    \n",
    "    def __init__(self, file):\n",
    "        global the_file\n",
    "        self.the_file = open(file, 'w')\n",
    "        \n",
    "    def on_data(self, data):\n",
    "        self.the_file.write(data)\n",
    "        return True\n",
    "    \n",
    "    def on_error(self, status):\n",
    "        print(status)\n",
    "        \n",
    "    def file_close(self):\n",
    "        self.the_file.close()        "
   ]
  },
  {
   "cell_type": "code",
   "execution_count": 14,
   "metadata": {
    "collapsed": false
   },
   "outputs": [
    {
     "name": "stdout",
     "output_type": "stream",
     "text": [
      "420\n"
     ]
    },
    {
     "name": "stderr",
     "output_type": "stream",
     "text": [
      "Exception in thread Thread-10:\n",
      "Traceback (most recent call last):\n",
      "  File \"C:\\Users\\laureano.fernandes\\AppData\\Local\\Continuum\\Anaconda3\\lib\\http\\client.py\", line 583, in _readinto_chunked\n",
      "    n = self._safe_readinto(mvb)\n",
      "  File \"C:\\Users\\laureano.fernandes\\AppData\\Local\\Continuum\\Anaconda3\\lib\\http\\client.py\", line 630, in _safe_readinto\n",
      "    raise IncompleteRead(bytes(mvb[0:total_bytes]), len(b))\n",
      "http.client.IncompleteRead: IncompleteRead(0 bytes read, 512 more expected)\n",
      "\n",
      "During handling of the above exception, another exception occurred:\n",
      "\n",
      "Traceback (most recent call last):\n",
      "  File \"C:\\Users\\laureano.fernandes\\AppData\\Local\\Continuum\\Anaconda3\\lib\\site-packages\\requests\\packages\\urllib3\\response.py\", line 298, in _error_catcher\n",
      "    yield\n",
      "  File \"C:\\Users\\laureano.fernandes\\AppData\\Local\\Continuum\\Anaconda3\\lib\\site-packages\\requests\\packages\\urllib3\\response.py\", line 380, in read\n",
      "    data = self._fp.read(amt)\n",
      "  File \"C:\\Users\\laureano.fernandes\\AppData\\Local\\Continuum\\Anaconda3\\lib\\http\\client.py\", line 449, in read\n",
      "    n = self.readinto(b)\n",
      "  File \"C:\\Users\\laureano.fernandes\\AppData\\Local\\Continuum\\Anaconda3\\lib\\http\\client.py\", line 483, in readinto\n",
      "    return self._readinto_chunked(b)\n",
      "  File \"C:\\Users\\laureano.fernandes\\AppData\\Local\\Continuum\\Anaconda3\\lib\\http\\client.py\", line 594, in _readinto_chunked\n",
      "    raise IncompleteRead(bytes(b[0:total_bytes]))\n",
      "http.client.IncompleteRead: IncompleteRead(0 bytes read)\n",
      "\n",
      "During handling of the above exception, another exception occurred:\n",
      "\n",
      "Traceback (most recent call last):\n",
      "  File \"C:\\Users\\laureano.fernandes\\AppData\\Local\\Continuum\\Anaconda3\\lib\\threading.py\", line 916, in _bootstrap_inner\n",
      "    self.run()\n",
      "  File \"C:\\Users\\laureano.fernandes\\AppData\\Local\\Continuum\\Anaconda3\\lib\\threading.py\", line 864, in run\n",
      "    self._target(*self._args, **self._kwargs)\n",
      "  File \"C:\\Users\\laureano.fernandes\\AppData\\Local\\Continuum\\Anaconda3\\lib\\site-packages\\tweepy\\streaming.py\", line 297, in _run\n",
      "    six.reraise(*exc_info)\n",
      "  File \"C:\\Users\\laureano.fernandes\\AppData\\Local\\Continuum\\Anaconda3\\lib\\site-packages\\six.py\", line 686, in reraise\n",
      "    raise value\n",
      "  File \"C:\\Users\\laureano.fernandes\\AppData\\Local\\Continuum\\Anaconda3\\lib\\site-packages\\tweepy\\streaming.py\", line 266, in _run\n",
      "    self._read_loop(resp)\n",
      "  File \"C:\\Users\\laureano.fernandes\\AppData\\Local\\Continuum\\Anaconda3\\lib\\site-packages\\tweepy\\streaming.py\", line 316, in _read_loop\n",
      "    line = buf.read_line().strip()\n",
      "  File \"C:\\Users\\laureano.fernandes\\AppData\\Local\\Continuum\\Anaconda3\\lib\\site-packages\\tweepy\\streaming.py\", line 181, in read_line\n",
      "    self._buffer += self._stream.read(self._chunk_size)\n",
      "  File \"C:\\Users\\laureano.fernandes\\AppData\\Local\\Continuum\\Anaconda3\\lib\\site-packages\\requests\\packages\\urllib3\\response.py\", line 397, in read\n",
      "    raise IncompleteRead(self._fp_bytes_read, self.length_remaining)\n",
      "  File \"C:\\Users\\laureano.fernandes\\AppData\\Local\\Continuum\\Anaconda3\\lib\\contextlib.py\", line 100, in __exit__\n",
      "    self.gen.throw(type, value, traceback)\n",
      "  File \"C:\\Users\\laureano.fernandes\\AppData\\Local\\Continuum\\Anaconda3\\lib\\site-packages\\requests\\packages\\urllib3\\response.py\", line 316, in _error_catcher\n",
      "    raise ProtocolError('Connection broken: %r' % e, e)\n",
      "requests.packages.urllib3.exceptions.ProtocolError: ('Connection broken: IncompleteRead(0 bytes read)', IncompleteRead(0 bytes read))\n",
      "\n",
      "Exception in thread Thread-9:\n",
      "Traceback (most recent call last):\n",
      "  File \"C:\\Users\\laureano.fernandes\\AppData\\Local\\Continuum\\Anaconda3\\lib\\http\\client.py\", line 583, in _readinto_chunked\n",
      "    n = self._safe_readinto(mvb)\n",
      "  File \"C:\\Users\\laureano.fernandes\\AppData\\Local\\Continuum\\Anaconda3\\lib\\http\\client.py\", line 630, in _safe_readinto\n",
      "    raise IncompleteRead(bytes(mvb[0:total_bytes]), len(b))\n",
      "http.client.IncompleteRead: IncompleteRead(0 bytes read, 512 more expected)\n",
      "\n",
      "During handling of the above exception, another exception occurred:\n",
      "\n",
      "Traceback (most recent call last):\n",
      "  File \"C:\\Users\\laureano.fernandes\\AppData\\Local\\Continuum\\Anaconda3\\lib\\site-packages\\requests\\packages\\urllib3\\response.py\", line 298, in _error_catcher\n",
      "    yield\n",
      "  File \"C:\\Users\\laureano.fernandes\\AppData\\Local\\Continuum\\Anaconda3\\lib\\site-packages\\requests\\packages\\urllib3\\response.py\", line 380, in read\n",
      "    data = self._fp.read(amt)\n",
      "  File \"C:\\Users\\laureano.fernandes\\AppData\\Local\\Continuum\\Anaconda3\\lib\\http\\client.py\", line 449, in read\n",
      "    n = self.readinto(b)\n",
      "  File \"C:\\Users\\laureano.fernandes\\AppData\\Local\\Continuum\\Anaconda3\\lib\\http\\client.py\", line 483, in readinto\n",
      "    return self._readinto_chunked(b)\n",
      "  File \"C:\\Users\\laureano.fernandes\\AppData\\Local\\Continuum\\Anaconda3\\lib\\http\\client.py\", line 594, in _readinto_chunked\n",
      "    raise IncompleteRead(bytes(b[0:total_bytes]))\n",
      "http.client.IncompleteRead: IncompleteRead(0 bytes read)\n",
      "\n",
      "During handling of the above exception, another exception occurred:\n",
      "\n",
      "Traceback (most recent call last):\n",
      "  File \"C:\\Users\\laureano.fernandes\\AppData\\Local\\Continuum\\Anaconda3\\lib\\threading.py\", line 916, in _bootstrap_inner\n",
      "    self.run()\n",
      "  File \"C:\\Users\\laureano.fernandes\\AppData\\Local\\Continuum\\Anaconda3\\lib\\threading.py\", line 864, in run\n",
      "    self._target(*self._args, **self._kwargs)\n",
      "  File \"C:\\Users\\laureano.fernandes\\AppData\\Local\\Continuum\\Anaconda3\\lib\\site-packages\\tweepy\\streaming.py\", line 297, in _run\n",
      "    six.reraise(*exc_info)\n",
      "  File \"C:\\Users\\laureano.fernandes\\AppData\\Local\\Continuum\\Anaconda3\\lib\\site-packages\\six.py\", line 686, in reraise\n",
      "    raise value\n",
      "  File \"C:\\Users\\laureano.fernandes\\AppData\\Local\\Continuum\\Anaconda3\\lib\\site-packages\\tweepy\\streaming.py\", line 266, in _run\n",
      "    self._read_loop(resp)\n",
      "  File \"C:\\Users\\laureano.fernandes\\AppData\\Local\\Continuum\\Anaconda3\\lib\\site-packages\\tweepy\\streaming.py\", line 316, in _read_loop\n",
      "    line = buf.read_line().strip()\n",
      "  File \"C:\\Users\\laureano.fernandes\\AppData\\Local\\Continuum\\Anaconda3\\lib\\site-packages\\tweepy\\streaming.py\", line 181, in read_line\n",
      "    self._buffer += self._stream.read(self._chunk_size)\n",
      "  File \"C:\\Users\\laureano.fernandes\\AppData\\Local\\Continuum\\Anaconda3\\lib\\site-packages\\requests\\packages\\urllib3\\response.py\", line 397, in read\n",
      "    raise IncompleteRead(self._fp_bytes_read, self.length_remaining)\n",
      "  File \"C:\\Users\\laureano.fernandes\\AppData\\Local\\Continuum\\Anaconda3\\lib\\contextlib.py\", line 100, in __exit__\n",
      "    self.gen.throw(type, value, traceback)\n",
      "  File \"C:\\Users\\laureano.fernandes\\AppData\\Local\\Continuum\\Anaconda3\\lib\\site-packages\\requests\\packages\\urllib3\\response.py\", line 316, in _error_catcher\n",
      "    raise ProtocolError('Connection broken: %r' % e, e)\n",
      "requests.packages.urllib3.exceptions.ProtocolError: ('Connection broken: IncompleteRead(0 bytes read)', IncompleteRead(0 bytes read))\n",
      "\n"
     ]
    },
    {
     "name": "stdout",
     "output_type": "stream",
     "text": [
      "**Finish**\n"
     ]
    }
   ],
   "source": [
    "listener = MyListener(file)\n",
    "oauth = OAuthHandler(consumer_key, consumer_secret)\n",
    "oauth.set_access_token(access_token, access_token_secret)\n",
    "\n",
    "max_time = 90 # in seconds\n",
    "start_time = time.time() \n",
    "\n",
    "## collecting...\n",
    "stream = Stream(oauth, listener)\n",
    "#stream.filter(track=['copa', 'neymar', 'messi'],async=True,languages=['pt'])\n",
    "stream.filter(track=['neymar', 'lukaku', 'messi', 'modric', 'mbappe','pogba','rakitic','cr7','hazard', 'kante', 'kane'],async=True)\n",
    "\n",
    "elapsed_time = (time.time() - start_time)\n",
    "while  elapsed_time < max_time:\n",
    "    elapsed_time = (time.time() - start_time)\n",
    "\n",
    "print('**Finish**')\n",
    "stream.disconnect()\n",
    "listener.file_close() "
   ]
  },
  {
   "cell_type": "code",
   "execution_count": 15,
   "metadata": {
    "collapsed": true
   },
   "outputs": [],
   "source": [
    "import json\n",
    "import pandas as pd\n",
    "import matplotlib.pyplot as plt"
   ]
  },
  {
   "cell_type": "code",
   "execution_count": 16,
   "metadata": {
    "collapsed": true
   },
   "outputs": [],
   "source": [
    "tweets_data = []\n",
    "tweets_file = open(file, \"r\")\n",
    "for line in tweets_file:\n",
    "    try:\n",
    "        tweet = json.loads(line)\n",
    "        tweets_data.append(tweet)\n",
    "    except:\n",
    "        continue\n",
    "        "
   ]
  },
  {
   "cell_type": "code",
   "execution_count": 17,
   "metadata": {
    "collapsed": false
   },
   "outputs": [
    {
     "name": "stdout",
     "output_type": "stream",
     "text": [
      "  lang                                               text country\n",
      "0   es  RT @Futbol_TotaI: 💣BOMBAZO💣\\n\\nEl crack que Me...    None\n",
      "1   en  RT @shannongsims: Someone created a Neymar Alp...    None\n",
      "2   in                                  Lukaku lukamu jua    None\n",
      "3   ht         @LeonardusAdhie Swap rak for kante? Hahaha    None\n",
      "4   fr  RT @QBINZE: Trop mignooooon (trop hâte de le v...    None\n",
      "5   es  RT @Futbol_TotaI: 💣BOMBAZO💣\\n\\nEl crack que Me...    None\n",
      "6   en  @LeTour I would like to see Neymar still round...    None\n",
      "7   in            even hazard pun takleh lepas dgn rlc ni    None\n",
      "8   en  @wahbo_93 @442oons Well kens might, but Kane w...    None\n",
      "9   ja   #ENG のHarry Kaneはhurricaneって言われてるんかな？と思ったら言われてたｗ    None\n"
     ]
    }
   ],
   "source": [
    "tweets = pd.DataFrame()\n",
    "\n",
    "tweets['lang'] = ''\n",
    "tweets['text'] = ''\n",
    "tweets['country'] = ''\n",
    "for tweet in tweets_data:\n",
    "    if 'lang' in tweet:\n",
    "        tweets.loc[len(tweets)] = [tweet['lang'],\n",
    "                               tweet['text'],\n",
    "                               tweet['place']['country'] if tweet['place'] != None else None]\n",
    "    \n",
    "print(tweets.head(10))"
   ]
  },
  {
   "cell_type": "code",
   "execution_count": 18,
   "metadata": {
    "collapsed": false
   },
   "outputs": [
    {
     "data": {
      "text/plain": [
       "<matplotlib.axes._subplots.AxesSubplot at 0x194f39a5198>"
      ]
     },
     "execution_count": 18,
     "metadata": {},
     "output_type": "execute_result"
    }
   ],
   "source": [
    "tweets_by_lang = tweets['lang'].value_counts()\n",
    "\n",
    "fig, ax = plt.subplots()\n",
    "ax.tick_params(axis='x', labelsize=15)\n",
    "ax.tick_params(axis='y', labelsize=10)\n",
    "ax.set_xlabel('Languages', fontsize=15)\n",
    "ax.set_ylabel('Number of tweets' , fontsize=15)\n",
    "ax.set_title('Top 5 languages', fontsize=15, fontweight='bold')\n",
    "tweets_by_lang[:5].plot(ax=ax, kind='bar', color='red')"
   ]
  },
  {
   "cell_type": "code",
   "execution_count": 42,
   "metadata": {
    "collapsed": false
   },
   "outputs": [
    {
     "data": {
      "text/plain": [
       "<matplotlib.axes._subplots.AxesSubplot at 0x118186c88>"
      ]
     },
     "execution_count": 42,
     "metadata": {},
     "output_type": "execute_result"
    },
    {
     "data": {
      "image/png": "[encoded data removed]",
      "text/plain": [
       "<matplotlib.figure.Figure at 0x1163f05f8>"
      ]
     },
     "metadata": {},
     "output_type": "display_data"
    }
   ],
   "source": [
    "tweets_by_country = tweets['country'].value_counts()\n",
    "\n",
    "fig, ax = plt.subplots()\n",
    "ax.tick_params(axis='x', labelsize=15)\n",
    "ax.tick_params(axis='y', labelsize=10)\n",
    "ax.set_xlabel('Countries', fontsize=15)\n",
    "ax.set_ylabel('Number of tweets' , fontsize=15)\n",
    "ax.set_title('Top 5 countries', fontsize=15, fontweight='bold')\n",
    "tweets_by_country[:5].plot(ax=ax, kind='bar', color='blue')"
   ]
  },
  {
   "cell_type": "code",
   "execution_count": 19,
   "metadata": {
    "collapsed": true
   },
   "outputs": [],
   "source": [
    "import re\n",
    "def word_in_text(word, text):\n",
    "    word = word.lower()\n",
    "    text = text.lower()\n",
    "    match = re.search(word, text)\n",
    "    if match:\n",
    "        return True\n",
    "    return False"
   ]
  },
  {
   "cell_type": "code",
   "execution_count": 20,
   "metadata": {
    "collapsed": false
   },
   "outputs": [
    {
     "data": {
      "text/html": [
       "<div>\n",
       "<table border=\"1\" class=\"dataframe\">\n",
       "  <thead>\n",
       "    <tr style=\"text-align: right;\">\n",
       "      <th></th>\n",
       "      <th>lang</th>\n",
       "      <th>text</th>\n",
       "      <th>country</th>\n",
       "      <th>player</th>\n",
       "    </tr>\n",
       "  </thead>\n",
       "  <tbody>\n",
       "    <tr>\n",
       "      <th>0</th>\n",
       "      <td>es</td>\n",
       "      <td>RT @Futbol_TotaI: 💣BOMBAZO💣\\n\\nEl crack que Me...</td>\n",
       "      <td>None</td>\n",
       "      <td>messi</td>\n",
       "    </tr>\n",
       "    <tr>\n",
       "      <th>1</th>\n",
       "      <td>en</td>\n",
       "      <td>RT @shannongsims: Someone created a Neymar Alp...</td>\n",
       "      <td>None</td>\n",
       "      <td>neymar</td>\n",
       "    </tr>\n",
       "    <tr>\n",
       "      <th>2</th>\n",
       "      <td>in</td>\n",
       "      <td>Lukaku lukamu jua</td>\n",
       "      <td>None</td>\n",
       "      <td>lukaku</td>\n",
       "    </tr>\n",
       "    <tr>\n",
       "      <th>3</th>\n",
       "      <td>ht</td>\n",
       "      <td>@LeonardusAdhie Swap rak for kante? Hahaha</td>\n",
       "      <td>None</td>\n",
       "      <td>kante</td>\n",
       "    </tr>\n",
       "    <tr>\n",
       "      <th>4</th>\n",
       "      <td>fr</td>\n",
       "      <td>RT @QBINZE: Trop mignooooon (trop hâte de le v...</td>\n",
       "      <td>None</td>\n",
       "      <td>mbappe</td>\n",
       "    </tr>\n",
       "    <tr>\n",
       "      <th>5</th>\n",
       "      <td>es</td>\n",
       "      <td>RT @Futbol_TotaI: 💣BOMBAZO💣\\n\\nEl crack que Me...</td>\n",
       "      <td>None</td>\n",
       "      <td>messi</td>\n",
       "    </tr>\n",
       "    <tr>\n",
       "      <th>6</th>\n",
       "      <td>en</td>\n",
       "      <td>@LeTour I would like to see Neymar still round...</td>\n",
       "      <td>None</td>\n",
       "      <td>neymar</td>\n",
       "    </tr>\n",
       "    <tr>\n",
       "      <th>7</th>\n",
       "      <td>in</td>\n",
       "      <td>even hazard pun takleh lepas dgn rlc ni</td>\n",
       "      <td>None</td>\n",
       "      <td>hazard</td>\n",
       "    </tr>\n",
       "    <tr>\n",
       "      <th>8</th>\n",
       "      <td>en</td>\n",
       "      <td>@wahbo_93 @442oons Well kens might, but Kane w...</td>\n",
       "      <td>None</td>\n",
       "      <td>kane</td>\n",
       "    </tr>\n",
       "    <tr>\n",
       "      <th>9</th>\n",
       "      <td>ja</td>\n",
       "      <td>#ENG のHarry Kaneはhurricaneって言われてるんかな？と思ったら言われてたｗ</td>\n",
       "      <td>None</td>\n",
       "      <td>kane</td>\n",
       "    </tr>\n",
       "    <tr>\n",
       "      <th>10</th>\n",
       "      <td>es</td>\n",
       "      <td>RT @Futbol_TotaI: 💣BOMBAZO💣\\n\\nEl crack que Me...</td>\n",
       "      <td>None</td>\n",
       "      <td>messi</td>\n",
       "    </tr>\n",
       "    <tr>\n",
       "      <th>11</th>\n",
       "      <td>pt</td>\n",
       "      <td>RT @EuAvisei_ne: Quando ganha \"NEYMAR É O CARA...</td>\n",
       "      <td>None</td>\n",
       "      <td>neymar</td>\n",
       "    </tr>\n",
       "    <tr>\n",
       "      <th>12</th>\n",
       "      <td>en</td>\n",
       "      <td>RT @FootyHumour: Dida played for Brazil at the...</td>\n",
       "      <td>None</td>\n",
       "      <td>mbappe</td>\n",
       "    </tr>\n",
       "    <tr>\n",
       "      <th>13</th>\n",
       "      <td>es</td>\n",
       "      <td>RT @Futbol_TotaI: 💣BOMBAZO💣\\n\\nEl crack que Me...</td>\n",
       "      <td>None</td>\n",
       "      <td>messi</td>\n",
       "    </tr>\n",
       "    <tr>\n",
       "      <th>14</th>\n",
       "      <td>pt</td>\n",
       "      <td>com a final da copa amanhã to só a paródia do ...</td>\n",
       "      <td>None</td>\n",
       "      <td>neymar</td>\n",
       "    </tr>\n",
       "    <tr>\n",
       "      <th>15</th>\n",
       "      <td>en</td>\n",
       "      <td>RT @brfootball: Ivan Rakitic says he’ll get a ...</td>\n",
       "      <td>None</td>\n",
       "      <td>rakitic</td>\n",
       "    </tr>\n",
       "    <tr>\n",
       "      <th>16</th>\n",
       "      <td>es</td>\n",
       "      <td>RT @Futbol_TotaI: 💣BOMBAZO💣\\n\\nEl crack que Me...</td>\n",
       "      <td>None</td>\n",
       "      <td>messi</td>\n",
       "    </tr>\n",
       "    <tr>\n",
       "      <th>17</th>\n",
       "      <td>es</td>\n",
       "      <td>RT @Juventus_VEN: Andrea Agnelli ¡Hombre de Pa...</td>\n",
       "      <td>None</td>\n",
       "      <td>None</td>\n",
       "    </tr>\n",
       "    <tr>\n",
       "      <th>18</th>\n",
       "      <td>es</td>\n",
       "      <td>@FOXSportsArg Se merece!! Mbappe tiene más tiempo</td>\n",
       "      <td>None</td>\n",
       "      <td>mbappe</td>\n",
       "    </tr>\n",
       "    <tr>\n",
       "      <th>19</th>\n",
       "      <td>en</td>\n",
       "      <td>RT @brfootball: Ivan Rakitic says he’ll get a ...</td>\n",
       "      <td>None</td>\n",
       "      <td>rakitic</td>\n",
       "    </tr>\n",
       "  </tbody>\n",
       "</table>\n",
       "</div>"
      ],
      "text/plain": [
       "   lang                                               text country   player\n",
       "0    es  RT @Futbol_TotaI: 💣BOMBAZO💣\\n\\nEl crack que Me...    None    messi\n",
       "1    en  RT @shannongsims: Someone created a Neymar Alp...    None   neymar\n",
       "2    in                                  Lukaku lukamu jua    None   lukaku\n",
       "3    ht         @LeonardusAdhie Swap rak for kante? Hahaha    None    kante\n",
       "4    fr  RT @QBINZE: Trop mignooooon (trop hâte de le v...    None   mbappe\n",
       "5    es  RT @Futbol_TotaI: 💣BOMBAZO💣\\n\\nEl crack que Me...    None    messi\n",
       "6    en  @LeTour I would like to see Neymar still round...    None   neymar\n",
       "7    in            even hazard pun takleh lepas dgn rlc ni    None   hazard\n",
       "8    en  @wahbo_93 @442oons Well kens might, but Kane w...    None     kane\n",
       "9    ja   #ENG のHarry Kaneはhurricaneって言われてるんかな？と思ったら言われてたｗ    None     kane\n",
       "10   es  RT @Futbol_TotaI: 💣BOMBAZO💣\\n\\nEl crack que Me...    None    messi\n",
       "11   pt  RT @EuAvisei_ne: Quando ganha \"NEYMAR É O CARA...    None   neymar\n",
       "12   en  RT @FootyHumour: Dida played for Brazil at the...    None   mbappe\n",
       "13   es  RT @Futbol_TotaI: 💣BOMBAZO💣\\n\\nEl crack que Me...    None    messi\n",
       "14   pt  com a final da copa amanhã to só a paródia do ...    None   neymar\n",
       "15   en  RT @brfootball: Ivan Rakitic says he’ll get a ...    None  rakitic\n",
       "16   es  RT @Futbol_TotaI: 💣BOMBAZO💣\\n\\nEl crack que Me...    None    messi\n",
       "17   es  RT @Juventus_VEN: Andrea Agnelli ¡Hombre de Pa...    None     None\n",
       "18   es  @FOXSportsArg Se merece!! Mbappe tiene más tiempo    None   mbappe\n",
       "19   en  RT @brfootball: Ivan Rakitic says he’ll get a ...    None  rakitic"
      ]
     },
     "execution_count": 20,
     "metadata": {},
     "output_type": "execute_result"
    }
   ],
   "source": [
    "## filtrando aqueles q mais foram falados (termos mais influentes)\n",
    "players = []\n",
    "for tweet in tweets_data:\n",
    "    if 'text' in tweet:\n",
    "        if word_in_text('neymar', tweet['text']):\n",
    "            players.append('neymar')\n",
    "        elif word_in_text('messi', tweet['text']):\n",
    "            players.append('messi')\n",
    "        elif word_in_text('lukaku', tweet['text']):\n",
    "            players.append('lukaku')\n",
    "        elif word_in_text('modric', tweet['text']):\n",
    "            players.append('modric')\n",
    "        elif word_in_text('hazard', tweet['text']):\n",
    "            players.append('hazard')\n",
    "        elif word_in_text('mbappe', tweet['text']):\n",
    "            players.append('mbappe')\n",
    "        elif word_in_text('cr7', tweet['text']):\n",
    "            players.append('cr7')\n",
    "        elif word_in_text('pogba', tweet['text']):\n",
    "            players.append('pogba')\n",
    "        elif word_in_text('rakitic', tweet['text']):\n",
    "            players.append('rakitic')\n",
    "        elif word_in_text('cr7', tweet['text']):\n",
    "            players.append('cr7')\n",
    "        elif word_in_text('kante', tweet['text']):\n",
    "            players.append('kante')\n",
    "        elif word_in_text('kane', tweet['text']):\n",
    "            players.append('kane')\n",
    "        else:\n",
    "            players.append('None')\n",
    "tweets['player'] = players\n",
    "tweets.head(20)"
   ]
  },
  {
   "cell_type": "code",
   "execution_count": 25,
   "metadata": {
    "collapsed": false
   },
   "outputs": [
    {
     "data": {
      "text/plain": [
       "<matplotlib.axes._subplots.AxesSubplot at 0x194f3d02da0>"
      ]
     },
     "execution_count": 25,
     "metadata": {},
     "output_type": "execute_result"
    }
   ],
   "source": [
    "tweets_by_player = tweets['player'].value_counts()\n",
    "\n",
    "fig, ax = plt.subplots()\n",
    "ax.tick_params(axis='x', labelsize=15)\n",
    "ax.tick_params(axis='y', labelsize=10)\n",
    "ax.set_xlabel('Players', fontsize=15)\n",
    "ax.set_ylabel('Number of tweets' , fontsize=15)\n",
    "ax.set_title('Top 5 players', fontsize=15, fontweight='bold')\n",
    "tweets_by_player[:6].plot(ax=ax, kind='bar', color='green')\n"
   ]
  },
  {
   "cell_type": "code",
   "execution_count": null,
   "metadata": {
    "collapsed": true
   },
   "outputs": [],
   "source": [
    "## Desafio: filtrando pelas coordenadas geográficas os tweets em português\n"
   ]
  }
 ],
 "metadata": {
  "kernelspec": {
   "display_name": "Python 3",
   "language": "python",
   "name": "python3"
  },
  "language_info": {
   "codemirror_mode": {
    "name": "ipython",
    "version": 3
   },
   "file_extension": ".py",
   "mimetype": "text/x-python",
   "name": "python",
   "nbconvert_exporter": "python",
   "pygments_lexer": "ipython3",
   "version": "3.6.0"
  }
 },
 "nbformat": 4,
 "nbformat_minor": 2
}
